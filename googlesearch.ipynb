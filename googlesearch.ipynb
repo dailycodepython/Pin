{
  "cells": [
    {
      "cell_type": "markdown",
      "metadata": {
        "id": "view-in-github",
        "colab_type": "text"
      },
      "source": [
        "<a href=\"https://colab.research.google.com/github/dailycodepython/Stock_Market_Future_Spread_Prediction_Using_Pycaret/blob/main/googlesearch.ipynb\" target=\"_parent\"><img src=\"https://colab.research.google.com/assets/colab-badge.svg\" alt=\"Open In Colab\"/></a>"
      ]
    },
    {
      "cell_type": "code",
      "execution_count": null,
      "metadata": {
        "id": "vEVMpC60ZbwY",
        "colab": {
          "base_uri": "https://localhost:8080/"
        },
        "outputId": "dcefdfab-a215-4b83-cb14-715431074988"
      },
      "outputs": [
        {
          "output_type": "stream",
          "name": "stdout",
          "text": [
            "Enter your query:  trading systems in python \n",
            "https://gaper.io/algorithmic-trading-in-python/\n",
            "https://www.geeksforgeeks.org/automated-trading-using-python/\n",
            "https://medium.com/@deepml1818/implementing-algorithmic-trading-strategies-with-python-a-step-by-step-guide-775ed86f9a41\n",
            "https://tradewithpython.com/\n",
            "https://www.reddit.com/r/Python/comments/12na2zh/how_naive_is_to_try_create_trading_bots_using/\n",
            "https://www.reddit.com/r/learnpython/comments/166lkum/learning_python_for_algorithmic_trading/\n",
            "https://www.reddit.com/r/quant/comments/13q0yn2/how_to_build_an_algorithmic_trading_system_in/\n",
            "https://www.reddit.com/r/algotrading/comments/yaujev/how_do_you_scale_your_python_trading_system/\n",
            "https://www.reddit.com/r/algotrading/comments/kkjnp8/python_for_algorithmic_trading_by_hilpisch/\n",
            "https://www.youtube.com/watch?v=buLNFOvHK8o\n",
            "https://www.pybroker.com/\n",
            "https://zodiactrading.medium.com/top-10-quantitative-trading-strategies-with-python-82b1eff67650\n",
            "https://pyquantnews.com/topics/algorithmic-trading-with-python\n",
            "https://kernc.github.io/backtesting.py/\n",
            "https://www.insightbig.com/post/an-algo-trading-strategy-which-made-8-371-a-python-case-study\n",
            "https://www.datacamp.com/tutorial/finance-python-trading\n",
            "https://analyzingalpha.com/python-trading-tools\n",
            "https://blog.quantinsti.com/python-trading/\n",
            "https://www.youtube.com/watch?v=xfzGZB4HhEE\n",
            "https://www.udemy.com/course/algorithmic-trading-strategies-in-python/?srsltid=AfmBOooDZtQ_J33xTkq9FuF3aQ7xqosM8XnxrXiRw2B5hBoyT-Wybs_j\n",
            "https://m.youtube.com/watch?v=yZ9BBYzoMbs&t=43s\n",
            "https://www.amazon.com/Algorithmic-Trading-Hands-Approach-Python/dp/B0DJFS233Y\n",
            "https://quantra.quantinsti.com/course/python-trading-basic\n",
            "https://www.youtube.com/watch?v=WcfKaZL4vpA\n",
            "https://www.quantifiedstrategies.com/python-trading-strategy/\n",
            "https://www.amazon.com/Python-Automated-Trading-Systems-Algorithmic/dp/B0DCFKXLY8\n",
            "https://www.interactivebrokers.com/campus/ibkr-quant-news/basic-trading-algorithms-in-python/\n",
            "https://www.daytrading.com/python-trading-strategies\n",
            "https://www.oreilly.com/library/view/learn-algorithmic-trading/9781789348347/db5f5618-ccd0-45a6-9971-36752ace4759.xhtml\n",
            "https://www.javatpoint.com/automated-trading-in-python\n",
            "https://www.freecodecamp.org/news/learn-algorithmic-trading-using-python/\n",
            "https://www.youtube.com/watch?v=9Y3yaoi9rUQ\n",
            "https://blog.devgenius.io/optimizing-trading-strategies-using-python-ff419f1f3ffb\n",
            "https://www.quantrocket.com/\n",
            "https://paperswithbacktest.com/wiki/python-trading-strategy\n",
            "https://www.marketfeed.com/read/en/python-for-algo-trading-strategies-libraries-and-frameworks\n",
            "https://www.quantstart.com/articles/python-libraries-for-quantitative-trading/\n",
            "https://pyquantnews.com/free-python-resources/python-in-high-frequency-trading-low-latency-techniques\n",
            "https://github.com/robcarver17/pysystemtrade\n",
            "https://www.udemy.com/course/algorithmic-trading-quantitative-analysis-using-python/?srsltid=AfmBOorMdDWlHxmx9q111jXQzq2h-WuhahrY2qEUo-Mldx3aNKtXyBya\n",
            "https://www.analyticsvidhya.com/blog/2023/10/building-and-validating-simple-stock-trading-algorithms-using-python/\n",
            "https://ibridgepy.com/an-introduction-to-algorithmic-options-trading-python/\n",
            "https://jcsustem.com/blog/building-a-trading-system-in-python-a-step-by-step-guide\n",
            "https://www.nobledesktop.com/classes-near-me/blog/beginners-guide-to-algorithmic-trading-with-python\n",
            "https://www.restack.io/p/open-source-trading-algorithms-answer-python-cat-ai\n",
            "https://mayerkrebs.com/is-python-good-for-trading/\n",
            "http://raposa.trade/blog/building-a-complete-bot-trading-system-for-beginners-in-python/\n",
            "https://www.freecodecamp.org/news/algorithmic-trading-in-python/\n",
            "https://www.londonfs.com/course/Trading-Strategies-Python\n",
            "https://www.quantstart.com/articles/backtesting-systematic-trading-strategies-in-python-considerations-and-open-source-frameworks/\n",
            "https://github.com/topics/trading-algorithms?l=python\n",
            "https://pypi.org/project/trading-strategy/\n",
            "https://www.composer.trade/learn/python-for-algorithmic-trading\n",
            "https://www.youtube.com/watch?v=fqltiq5EahU&pp=ygURI21hcmtldGFsZ29yaXRobXM%3D\n",
            "https://www.mpinvestit.it/en/programming-a-trading-system-with-python/\n",
            "https://towardsdatascience.com/how-to-create-a-fully-automated-ai-based-trading-system-with-python-708503c1a907\n",
            "https://www.restack.io/p/beginner-systems-for-ai-trading-answer-automated-trading-systems-in-python-cat-ai\n",
            "https://www.quora.com/How-can-I-develop-an-algorithmic-trading-system-in-python\n",
            "https://dev.to/sewinter/8-best-python-libraries-for-algorithmic-trading-1af8\n",
            "https://www.datacamp.com/courses/financial-trading-in-python\n",
            "https://www.oreilly.com/content/algorithmic-trading-in-less-than-100-lines-of-python-code/\n",
            "https://researchtech.net/index.php/2024/01/stock-trading-system-python/\n",
            "https://www.geeksforgeeks.org/why-python-is-used-for-developing-automated-trading-strategy/\n",
            "https://www.investopedia.com/articles/active-trading/101014/basics-algorithmic-trading-concepts-and-examples.asp\n",
            "https://blog.devgenius.io/automate-your-trading-journey-with-python-where-market-data-meets-algorithmic-precision-for-3f09fd8fabfb\n",
            "https://www.cmarix.com/blog/how-to-build-custom-algorithm-trading-software/\n",
            "https://finage.co.uk/blog/stepbystep-guide-building-a-powerful-trading-bot-with-python--66e1b1dfd10fd280dfa76c6b\n",
            "https://www.turing.com/kb/algorithmic-trading-with-python-and-how-to-use-fxcm-broker\n",
            "https://easylanguagemastery.com/building-strategies/why-you-shouldnt-use-python-for-algorithmic-trading-and-easylanguage-instead/\n",
            "https://ibridgepy.com/algorithm-trading/\n",
            "https://www.youtube.com/watch?v=_9t7TNsNXWI\n",
            "https://www.learndatasci.com/tutorials/python-finance-part-2-intro-quantitative-trading-strategies/\n",
            "https://quant.stackexchange.com/questions/54003/tips-on-building-an-automated-trading-system-in-python\n",
            "https://www.buildalpha.com/create-automated-strategies/\n",
            "https://papers.ssrn.com/sol3/papers.cfm?abstract_id=4894363\n",
            "https://alpaca.markets/learn/building-your-algorithmic-trading-setup\n",
            "https://dataheadhunters.com/academy/how-to-implement-a-python-based-tool-for-energy-trading-analysis/\n",
            "https://www.composer.trade/learn/momentum-trading-algorithm-in-python\n",
            "https://www.packtpub.com/en-us/product/python-algorithmic-trading-cookbook-9781838989354?type=print&srsltid=AfmBOoquOkxP8cwZPPLmLHwf9Hqfeee5xcSk_pqsUMggPQIOyUFwanoT\n",
            "https://www.ebay.com/itm/395807282094\n",
            "https://www.linkedin.com/pulse/automate-trading-using-mt5-python-part-2-quantra-classroom\n",
            "https://www.analyticsvidhya.com/blog/2022/04/how-to-use-algorithmic-trading-with-machine-learning-in-python/\n",
            "https://www.quora.com/Has-anyone-successfully-made-money-from-algorithmic-trading-using-Python-If-so-what-was-their-experience-like\n",
            "https://blog.roboforex.com/blog/2020/01/14/building-algorithmic-trading-systems-2-main-approaches-testing-tools/\n",
            "https://www.springerprofessional.de/en/quantitative-trading-strategies-using-python/26024972\n",
            "https://pipekit.io/blog/python-backtesting-frameworks-six-options-to-consider\n",
            "https://www.bing.com/shop?q=Python+Trading+Strategy&FORM=RSPINN\n",
            "https://sourceforge.net/directory/?q=algorithmic%20trading%20python\n",
            "https://www.interactivebrokers.com/campus/ibkr-quant-news/algorithmic-trading-strategies-basics-to-advanced-algo-trading-strategies/\n",
            "https://www.nobledesktop.com/classes/algorithmic-trading-python\n",
            "https://www.youtube.com/watch?v=WcPtPHJatIo\n",
            "https://profitview.net/blog/open-source-trading-projects\n",
            "https://jesse.trade/\n",
            "https://alpaca.markets/learn/how-to-improve-your-ai-based-python-trading-system-alpaca-broker\n",
            "https://www.target.com/p/quantitative-trading-strategies-using-python-by-peng-liu-paperback/-/A-90806201\n",
            "https://www.startups.com/questions/7106/my-aim-in-the-next-2-3-months-is-to-program-two-short-term-trading-strategies\n",
            "https://www.goodreads.com/book/show/45007564-learn-algorithmic-trading-with-python\n",
            "https://raw.githubusercontent.com/englianhu/binary.com-interview-question/fcad2844d7f10c486f3601af9932f49973548e4b/reference/Successful%20Algorithmic%20Trading.pdf\n",
            "https://www.amazon.com.be/-/en/J-P-Morgan/dp/B0DCFKXLY8\n",
            "https://www.mql5.com/en/forum/412825\n"
          ]
        }
      ],
      "source": [
        "from googlesearch import search\n",
        "query = input(\"Enter your query:  \")\n",
        "for i in search(query, tld=\"com\", num=100, stop=100, pause=2):\n",
        "    print(i)\n"
      ]
    },
    {
      "cell_type": "code",
      "source": [
        "3 % 9"
      ],
      "metadata": {
        "id": "jlhvpBPs6Ai9",
        "outputId": "e8f7d9dc-707f-4b61-ffb2-63f2c300e19f",
        "colab": {
          "base_uri": "https://localhost:8080/"
        }
      },
      "execution_count": null,
      "outputs": [
        {
          "output_type": "execute_result",
          "data": {
            "text/plain": [
              "3"
            ]
          },
          "metadata": {},
          "execution_count": 2
        }
      ]
    },
    {
      "cell_type": "code",
      "source": [],
      "metadata": {
        "id": "NsAtAuPM7CfZ"
      },
      "execution_count": null,
      "outputs": []
    },
    {
      "cell_type": "code",
      "source": [],
      "metadata": {
        "id": "uP1lepizjt7G"
      },
      "execution_count": null,
      "outputs": []
    },
    {
      "cell_type": "code",
      "execution_count": null,
      "metadata": {
        "id": "YMWZaJvva46e"
      },
      "outputs": [],
      "source": []
    },
    {
      "cell_type": "markdown",
      "metadata": {
        "id": "hI0FZqY56de4"
      },
      "source": [
        "https://observablehq.com/@fil/time-series-topological-subsampling  Time series topological subsampling\n",
        "\n",
        "https://giotto-ai.github.io/gtda-docs/0.3.0/notebooks/time_series_classification.html   Topology of time series\n",
        "\n",
        "https://www.youtube.com/watch?v=DZwK2gT-d8g  Lecture 16 - Topological Methods for the Analysis of Data\n",
        "\n",
        "https://github.com/gpersistence/tstop\n",
        "\n"
      ]
    },
    {
      "cell_type": "code",
      "execution_count": null,
      "metadata": {
        "id": "24pmVp50y8rp"
      },
      "outputs": [],
      "source": []
    },
    {
      "cell_type": "code",
      "execution_count": null,
      "metadata": {
        "id": "XhEtR7YIxkab"
      },
      "outputs": [],
      "source": []
    },
    {
      "cell_type": "code",
      "execution_count": null,
      "metadata": {
        "id": "36ohtWqSjHac"
      },
      "outputs": [],
      "source": []
    },
    {
      "cell_type": "markdown",
      "metadata": {
        "id": "T7azqQbNMBqq"
      },
      "source": [
        "машинное обучение\n",
        "\n",
        "https://intellect.icu/spajkovye-nejronnye-seti-1715\n",
        "\n",
        "https://scikit-learn.ru/1-10-decision-trees/"
      ]
    },
    {
      "cell_type": "markdown",
      "metadata": {
        "id": "jE_O0guhY2CF"
      },
      "source": [
        "golf fitness\n",
        "\n",
        "https://www.instagram.com/vassallo.golf/\n",
        "\n",
        "https://www.instagram.com/vernongriffith4/"
      ]
    },
    {
      "cell_type": "markdown",
      "metadata": {
        "id": "P-UdLQiC33Rg"
      },
      "source": []
    },
    {
      "cell_type": "markdown",
      "metadata": {
        "id": "D1yzXWm5Qwwj"
      },
      "source": [
        "https://www.activestate.com/blog/top-10-python-packages-for-finance-and-financial-modeling/"
      ]
    },
    {
      "cell_type": "markdown",
      "metadata": {
        "id": "Pd-ylnRQal0h"
      },
      "source": [
        "Golf swings\n",
        "\n",
        "https://www.instagram.com/annabeldimmock/\n",
        "\n",
        "https://www.instagram.com/ingeechun_global_fan_club/\n",
        "\n",
        "https://www.instagram.com/wave.golf/\n",
        "\n",
        "https://www.instagram.com/primetimegolf_/\n",
        "\n",
        "https://www.instagram.com/haileyostrom/\n",
        "\n",
        "https://www.instagram.com/chrismcclatchiegolf/\n",
        "\n",
        "https://www.instagram.com/golfjiggers/\n",
        "\n",
        "https://www.instagram.com/livgolf_league/\n",
        "\n",
        "https://www.instagram.com/thpgolf/\n",
        "\n",
        "https://www.instagram.com/jamesdowlinggolf/\n",
        "\n",
        "https://www.instagram.com/imjidong_/\n",
        "\n",
        "https://www.instagram.com/prolongdrive/\n",
        "\n",
        "https://www.instagram.com/kanani_lodge/\n",
        "\n",
        "https://www.instagram.com/golfvook/?hl=en\n",
        "\n",
        "https://www.instagram.com/troycmullins/\n",
        "\n",
        "https://www.instagram.com/hi_im_deborah/\n",
        "\n",
        "https://www.instagram.com/rorymcilroytracker/?hl=en\n",
        "\n",
        "https://www.instagram.com/sacredlinksphotography/?hl=en\n",
        "\n",
        "https://www.instagram.com/clairehogle/?hl=en\n",
        "\n",
        "https://www.instagram.com/golfergirlofficial/?hl=en\n",
        "\n",
        "https://www.instagram.com/cassmarie_b/?hl=en\n",
        "\n",
        "https://www.instagram.com/golfbabes/?hl=en\n",
        "\n",
        "https://www.instagram.com/_hyunju.__/\n",
        "\n",
        "https://www.instagram.com/alisaraaa.a/\n",
        "\n",
        "https://www.instagram.com/j82golf/\n",
        "\n",
        "https://www.instagram.com/garygilchristcoach/\n",
        "\n",
        "https://www.instagram.com/sanghee_08/\n",
        "\n",
        "https://www.instagram.com/npgnetwork/\n",
        "\n",
        "https://www.instagram.com/ashleyjgilliam/\n",
        "\n",
        "https://www.instagram.com/golf_room/\n",
        "\n",
        "https://www.instagram.com/p/CTNWzkPNRW5/\n",
        "\n",
        "https://www.instagram.com/golfslowmotion/?hl=en\n",
        "\n",
        "https://www.instagram.com/progolfswings/?hl=en\n",
        "\n",
        "https://www.instagram.com/madelenesagstrom/\n",
        "\n",
        "https://www.instagram.com/koutieflexie/\n",
        "\n",
        "https://www.instagram.com/asiantour/?hl=en\n",
        "\n",
        "https://www.instagram.com/explore/tags/slowmotiongolf/\n",
        "\n",
        "https://www.instagram.com/slomoswinglibrary/\n",
        "\n",
        "https://www.instagram.com/greg_castleman/\n",
        "\n",
        "https://www.instagram.com/secretgolfswing/?hl=en\n",
        "\n",
        "\n",
        "\n"
      ]
    },
    {
      "cell_type": "code",
      "execution_count": null,
      "metadata": {
        "id": "y3CmemUW394K"
      },
      "outputs": [],
      "source": []
    },
    {
      "cell_type": "code",
      "execution_count": null,
      "metadata": {
        "id": "sSU4I3sab2DY"
      },
      "outputs": [],
      "source": []
    },
    {
      "cell_type": "markdown",
      "metadata": {
        "id": "FXupcH6qiErT"
      },
      "source": [
        "https://tenor.com/view/golfing-deadstream-fail-whoops-ouch-gif-16669955"
      ]
    },
    {
      "cell_type": "markdown",
      "metadata": {
        "id": "v3cWdVStxXFU"
      },
      "source": [
        "https://www.instagram.com/golfcuties/?hl=en\n"
      ]
    },
    {
      "cell_type": "code",
      "execution_count": null,
      "metadata": {
        "id": "WmBmEcG_iGB2"
      },
      "outputs": [],
      "source": []
    }
  ],
  "metadata": {
    "colab": {
      "provenance": [],
      "authorship_tag": "ABX9TyNKyl5hD4ketc6x7Mw3R3vT",
      "include_colab_link": true
    },
    "kernelspec": {
      "display_name": "Python 3",
      "name": "python3"
    },
    "language_info": {
      "name": "python"
    }
  },
  "nbformat": 4,
  "nbformat_minor": 0
}